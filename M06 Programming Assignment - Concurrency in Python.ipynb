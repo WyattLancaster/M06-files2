{
 "cells": [
  {
   "cell_type": "code",
   "execution_count": 2,
   "id": "54b36b17",
   "metadata": {},
   "outputs": [],
   "source": [
    "# m06 - Programming Assignment: Concurrency in python 13.1\n",
    "# author: WJL\n",
    "# created: 2022-02-20\n",
    "# program uses imported data from datetime to get the current date and write it in a file called \"today.txt\"\n",
    "import datetime\n",
    "\n",
    "# Get the current date as a string\n",
    "current_date = datetime.date.today().strftime(\"%Y-%m-%d\")\n",
    "\n",
    "# Write the current date to the file today.txt\n",
    "with open(\"today.txt\", \"w\") as file:\n",
    "    file.write(current_date)"
   ]
  },
  {
   "cell_type": "code",
   "execution_count": null,
   "id": "e1352530",
   "metadata": {},
   "outputs": [],
   "source": [
    "# m06 - Programming Assignment: Concurrency in python 13.2\n",
    "# author: WJL\n",
    "# created: 2022-02-20\n",
    "# program uses imported data from datetime and the \"today.txt\" data from the previous code and reads it\n",
    "\n",
    "import datetime\n",
    "\n",
    "# Open \"today.txt\" and read it then save it's data as \"today_string\"\n",
    "with open(\"today.txt\", \"r\") as file:\n",
    "    today_string = file.read()"
   ]
  },
  {
   "cell_type": "code",
   "execution_count": null,
   "id": "b7d8ee9e",
   "metadata": {},
   "outputs": [],
   "source": [
    "# m06 - Programming Assignment: Concurrency in python 13.3\n",
    "# author: WJL\n",
    "# created: 2022-02-20\n",
    "# program parses the date from today_string.\n",
    "\n",
    "import datetime\n",
    "\n",
    "# Parse the date from today_string.\n",
    "today_date = datetime.datetime.strptime(today_string, \"%Y-%m-%d\").date()\n"
   ]
  },
  {
   "cell_type": "code",
   "execution_count": 3,
   "id": "cfafc878",
   "metadata": {},
   "outputs": [],
   "source": [
    "# m06 - Programming Assignment: Concurrency in python 15.1\n",
    "# author: WJL\n",
    "# created: 2022-02-20\n",
    "# program uses the multiprocessing module in Python to create three separate processes. Each process waits a random number\n",
    "# of seconds between zero and one, prints the current time, and then exits.\n",
    "\n",
    "import multiprocessing\n",
    "import time\n",
    "import random\n",
    "import datetime\n",
    "\n",
    "# Define a function that each process will run\n",
    "def worker():\n",
    "    # Generate a random sleep time between 0 and 1 seconds\n",
    "    sleep_time = random.random()\n",
    "    \n",
    "    # Sleep for the generated amount of time\n",
    "    time.sleep(sleep_time)\n",
    "    \n",
    "    # Print a message indicating how long the process waited and what time it finished\n",
    "    print(f\"Process {multiprocessing.current_process().name} waited {sleep_time:.2f} seconds and finished at {datetime.datetime.now()}\")\n",
    "\n",
    "# The following code will only be executed if this script is run as the main module\n",
    "if __name__ == '__main__':\n",
    "    # Create three separate processes, each running the worker function\n",
    "    processes = [multiprocessing.Process(name=f\"Process {i+1}\", target=worker) for i in range(3)]\n",
    "    \n",
    "    # Start each process in the background\n",
    "    for p in processes:\n",
    "        p.start()\n",
    "    \n",
    "    # Wait for each process to complete before continuing\n",
    "    for p in processes:\n",
    "        p.join()"
   ]
  }
 ],
 "metadata": {
  "kernelspec": {
   "display_name": "Python 3 (ipykernel)",
   "language": "python",
   "name": "python3"
  },
  "language_info": {
   "codemirror_mode": {
    "name": "ipython",
    "version": 3
   },
   "file_extension": ".py",
   "mimetype": "text/x-python",
   "name": "python",
   "nbconvert_exporter": "python",
   "pygments_lexer": "ipython3",
   "version": "3.9.13"
  }
 },
 "nbformat": 4,
 "nbformat_minor": 5
}
